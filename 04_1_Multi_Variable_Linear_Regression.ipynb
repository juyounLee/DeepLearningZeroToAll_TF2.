{
  "nbformat": 4,
  "nbformat_minor": 0,
  "metadata": {
    "colab": {
      "name": "04-1-Multi-Variable-Linear-Regression.ipynb",
      "provenance": [],
      "collapsed_sections": [],
      "authorship_tag": "ABX9TyOWLRWx1Hnbg8v+cNy08IcY",
      "include_colab_link": true
    },
    "kernelspec": {
      "name": "python3",
      "display_name": "Python 3"
    }
  },
  "cells": [
    {
      "cell_type": "markdown",
      "metadata": {
        "id": "view-in-github",
        "colab_type": "text"
      },
      "source": [
        "<a href=\"https://colab.research.google.com/github/juyounLee/DeepLearningZeroToAll_TF2./blob/main/04_1_Multi_Variable_Linear_Regression.ipynb\" target=\"_parent\"><img src=\"https://colab.research.google.com/assets/colab-badge.svg\" alt=\"Open In Colab\"/></a>"
      ]
    },
    {
      "cell_type": "code",
      "metadata": {
        "id": "ZmOHW-e03NwF"
      },
      "source": [
        "import tensorflow as tf\n",
        "import numpy as np"
      ],
      "execution_count": 1,
      "outputs": []
    },
    {
      "cell_type": "markdown",
      "metadata": {
        "id": "YDqxOSFO3qqg"
      },
      "source": [
        "### Data\n",
        "- x1 (quiz 1)\tx2 (quiz 2)\tx3 (mid 1)\tY (final)\n",
        "- 73\t         80\t         75\t        152\n",
        "- 93\t         88\t         93\t        185\n",
        "- 89\t         91\t         90\t        180\n",
        "- 96\t         98\t         100\t      196\n",
        "- 73\t         66\t         70\t        142"
      ]
    },
    {
      "cell_type": "code",
      "metadata": {
        "id": "tH2oVrqx3gbY"
      },
      "source": [
        "# x and y data\n",
        "x1 = [73., 93., 89., 96., 73.]\n",
        "x2 = [80., 88., 91., 98., 66]\n",
        "x3 = [75., 93., 90., 100., 70.]\n",
        "y = [152., 185., 180., 196., 142.]"
      ],
      "execution_count": 2,
      "outputs": []
    },
    {
      "cell_type": "code",
      "metadata": {
        "id": "jXJtY-0e8ccU"
      },
      "source": [
        "# initialize the variables\n",
        "#w1 = tf.Variable(tf.random.normal([1], -10, 10))\n",
        "#w2 = tf.Variable(tf.random.normal([1], -10, 10))\n",
        "#w3 = tf.Variable(tf.random.normal([1], -10, 10))\n",
        "#b = tf.Variable(tf.random.normal([1], -10, 10))\n",
        "\n",
        "w1 = tf.Variable(10.)\n",
        "w2 = tf.Variable(10.)\n",
        "w3 = tf.Variable(10.)\n",
        "b = tf.Variable(10.)\n"
      ],
      "execution_count": 3,
      "outputs": []
    },
    {
      "cell_type": "code",
      "metadata": {
        "id": "61Nk2f9s9Iey",
        "outputId": "80e87f3e-24fd-4067-b519-1eed4b551b09",
        "colab": {
          "base_uri": "https://localhost:8080/",
          "height": 386
        }
      },
      "source": [
        "# train the data\n",
        "\n",
        "learning_rate = 0.000001\n",
        "\n",
        "for i in range(1001):\n",
        "  with tf.GradientTape() as tape:\n",
        "    hypothesis = w1*x1 + w2*x2 + w3*x3 + b\n",
        "    cost = tf.reduce_mean(tf.square(hypothesis - y))\n",
        "\n",
        "  # calculate the gradient of variables\n",
        "  w1_grad, w2_grad, w3_grad, b_grad = tape.gradient(cost, [w1, w2, w3, b])\n",
        "  \n",
        "  # update the variables\n",
        "  w1.assign_sub(learning_rate*w1_grad)\n",
        "  w2.assign_sub(learning_rate*w2_grad)\n",
        "  w3.assign_sub(learning_rate*w3_grad)\n",
        "  b.assign_sub(learning_rate*b_grad)\n",
        "\n",
        "  if i % 50 == 0:\n",
        "    print('i: {:6}  cost: {:12.6f}'.format(i, cost.numpy()))"
      ],
      "execution_count": 4,
      "outputs": [
        {
          "output_type": "stream",
          "text": [
            "i:      0  cost: 5793889.500000\n",
            "i:     50  cost: 64291.156250\n",
            "i:    100  cost:   715.290344\n",
            "i:    150  cost:     9.846125\n",
            "i:    200  cost:     2.015248\n",
            "i:    250  cost:     1.925177\n",
            "i:    300  cost:     1.920982\n",
            "i:    350  cost:     1.917734\n",
            "i:    400  cost:     1.914541\n",
            "i:    450  cost:     1.911373\n",
            "i:    500  cost:     1.908144\n",
            "i:    550  cost:     1.904979\n",
            "i:    600  cost:     1.901804\n",
            "i:    650  cost:     1.898633\n",
            "i:    700  cost:     1.895486\n",
            "i:    750  cost:     1.892339\n",
            "i:    800  cost:     1.889200\n",
            "i:    850  cost:     1.886062\n",
            "i:    900  cost:     1.882930\n",
            "i:    950  cost:     1.879774\n",
            "i:   1000  cost:     1.876694\n"
          ],
          "name": "stdout"
        }
      ]
    },
    {
      "cell_type": "markdown",
      "metadata": {
        "id": "R48MpS4DGwGG"
      },
      "source": [
        "### Multi Variable with Matrix"
      ]
    },
    {
      "cell_type": "code",
      "metadata": {
        "id": "V3H7GiZU_WRW"
      },
      "source": [
        "data = np.array([\n",
        "    # X1,   X2,    X3,   y\n",
        "    [ 73.,  80.,  75., 152. ],\n",
        "    [ 93.,  88.,  93., 185. ],\n",
        "    [ 89.,  91.,  90., 180. ],\n",
        "    [ 96.,  98., 100., 196. ],\n",
        "    [ 73.,  66.,  70., 142. ]\n",
        "], dtype=np.float32)"
      ],
      "execution_count": 23,
      "outputs": []
    },
    {
      "cell_type": "code",
      "metadata": {
        "id": "ZtCgxo5aG2Zm"
      },
      "source": [
        "x = data[:, :-1]\n",
        "y = data[:, [-1]]"
      ],
      "execution_count": 24,
      "outputs": []
    },
    {
      "cell_type": "code",
      "metadata": {
        "id": "xQONP8XdG7ia",
        "outputId": "267ce9c3-9f69-4570-eebe-630f6abdddbd",
        "colab": {
          "base_uri": "https://localhost:8080/",
          "height": 122
        }
      },
      "source": [
        "# initialize the variables\n",
        "\n",
        "W = tf.Variable(tf.random.normal([3, 1]))\n",
        "b = tf.Variable(tf.random.normal([1]))\n",
        "\n",
        "print(W)\n",
        "print(x.shape)\n",
        "print(W.shape)"
      ],
      "execution_count": 25,
      "outputs": [
        {
          "output_type": "stream",
          "text": [
            "<tf.Variable 'Variable:0' shape=(3, 1) dtype=float32, numpy=\n",
            "array([[1.0066725 ],\n",
            "       [1.1733797 ],\n",
            "       [0.40391317]], dtype=float32)>\n",
            "(5, 3)\n",
            "(3, 1)\n"
          ],
          "name": "stdout"
        }
      ]
    },
    {
      "cell_type": "code",
      "metadata": {
        "id": "XG8V5UB9HyPd",
        "outputId": "33b9c5d0-9425-4dda-98f1-e00d46c7615c",
        "colab": {
          "base_uri": "https://localhost:8080/",
          "height": 403
        }
      },
      "source": [
        "# train the data\n",
        "learning_rate = 0.000001\n",
        "print('epoch | cost')\n",
        "\n",
        "for i in range(2001):\n",
        "  with tf.GradientTape() as tape:\n",
        "    hypothesis = tf.matmul(x, W) + b\n",
        "    cost = tf.reduce_mean(tf.square(hypothesis - y))\n",
        "\n",
        "  # calculate the gradient of variables\n",
        "  W_grad, b_grad = tape.gradient(cost, [W, b])\n",
        "\n",
        "  # update the variables\n",
        "  W.assign_sub(learning_rate*W_grad)\n",
        "  b.assign_sub(learning_rate*b_grad)\n",
        "\n",
        "  if i % 100 == 0:\n",
        "    print('i: {:6}  cost: {:12.6f}'.format(i, cost.numpy()))"
      ],
      "execution_count": 28,
      "outputs": [
        {
          "output_type": "stream",
          "text": [
            "epoch | cost\n",
            "i:      0  cost:  2211.163818\n",
            "i:    100  cost:     4.311399\n",
            "i:    200  cost:     4.018947\n",
            "i:    300  cost:     3.998309\n",
            "i:    400  cost:     3.977823\n",
            "i:    500  cost:     3.957447\n",
            "i:    600  cost:     3.937177\n",
            "i:    700  cost:     3.917018\n",
            "i:    800  cost:     3.896954\n",
            "i:    900  cost:     3.877033\n",
            "i:   1000  cost:     3.857217\n",
            "i:   1100  cost:     3.837500\n",
            "i:   1200  cost:     3.817873\n",
            "i:   1300  cost:     3.798364\n",
            "i:   1400  cost:     3.778953\n",
            "i:   1500  cost:     3.759661\n",
            "i:   1600  cost:     3.740466\n",
            "i:   1700  cost:     3.721358\n",
            "i:   1800  cost:     3.702366\n",
            "i:   1900  cost:     3.683494\n",
            "i:   2000  cost:     3.664674\n"
          ],
          "name": "stdout"
        }
      ]
    },
    {
      "cell_type": "code",
      "metadata": {
        "id": "KSJCHaZjJb3v",
        "outputId": "2e6e4ea0-20f1-4934-ce93-56a35748bcb2",
        "colab": {
          "base_uri": "https://localhost:8080/",
          "height": 210
        }
      },
      "source": [
        "# Actual y\n",
        "print(y)\n",
        "\n",
        "# hypothesis y\n",
        "print(hypothesis)"
      ],
      "execution_count": 29,
      "outputs": [
        {
          "output_type": "stream",
          "text": [
            "[[152.]\n",
            " [185.]\n",
            " [180.]\n",
            " [196.]\n",
            " [142.]]\n",
            "tf.Tensor(\n",
            "[[154.44199]\n",
            " [182.68025]\n",
            " [181.58286]\n",
            " [196.30276]\n",
            " [139.90674]], shape=(5, 1), dtype=float32)\n"
          ],
          "name": "stdout"
        }
      ]
    }
  ]
}