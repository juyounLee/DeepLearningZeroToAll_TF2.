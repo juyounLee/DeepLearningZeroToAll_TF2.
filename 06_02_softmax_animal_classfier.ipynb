{
  "nbformat": 4,
  "nbformat_minor": 0,
  "metadata": {
    "colab": {
      "name": "06-02-softmax-animal-classfier.ipynb",
      "provenance": [],
      "collapsed_sections": [],
      "authorship_tag": "ABX9TyPUGTpKc7LM9sZRjBQuPWSN",
      "include_colab_link": true
    },
    "kernelspec": {
      "name": "python3",
      "display_name": "Python 3"
    }
  },
  "cells": [
    {
      "cell_type": "markdown",
      "metadata": {
        "id": "view-in-github",
        "colab_type": "text"
      },
      "source": [
        "<a href=\"https://colab.research.google.com/github/juyounLee/DeepLearningZeroToAll_TF2./blob/main/06_02_softmax_animal_classfier.ipynb\" target=\"_parent\"><img src=\"https://colab.research.google.com/assets/colab-badge.svg\" alt=\"Open In Colab\"/></a>"
      ]
    },
    {
      "cell_type": "code",
      "metadata": {
        "id": "ZFw8wcMW4ovS"
      },
      "source": [
        "import tensorflow as tf\n",
        "import numpy as np\n",
        "import math"
      ],
      "execution_count": 45,
      "outputs": []
    },
    {
      "cell_type": "code",
      "metadata": {
        "id": "2lWvwg-c4wWZ"
      },
      "source": [
        "# load the data\n",
        "xy = np.loadtxt('/content/data-04-zoo.csv', delimiter= ',', dtype=np.float32)\n",
        "x_data = xy[:, :-1]\n",
        "y_data = xy[:, [-1]]\n",
        "\n",
        "x_data = np.array(x_data, dtype=np.float32)\n",
        "y_data = np.array(y_data, dtype=np.int32)"
      ],
      "execution_count": 46,
      "outputs": []
    },
    {
      "cell_type": "code",
      "metadata": {
        "id": "e1mFTow67Pv4"
      },
      "source": [
        "# make y_data as one_hot shape\n",
        "y_data = tf.one_hot(list(y_data), 7) \n",
        "y_data = tf.reshape(y_data, [-1, 7])"
      ],
      "execution_count": 47,
      "outputs": []
    },
    {
      "cell_type": "code",
      "metadata": {
        "id": "OPuCtUiM_Qc6"
      },
      "source": [
        "dataset = tf.data.Dataset.from_tensor_slices((x_data, y_data)).batch(len(x_data))"
      ],
      "execution_count": 48,
      "outputs": []
    },
    {
      "cell_type": "code",
      "metadata": {
        "id": "yLJm17Zh7mSM",
        "outputId": "52bde998-7d30-435b-943c-7286bfa407d2",
        "colab": {
          "base_uri": "https://localhost:8080/",
          "height": 52
        }
      },
      "source": [
        "print(x_data.shape)\n",
        "print(y_data.shape)"
      ],
      "execution_count": 49,
      "outputs": [
        {
          "output_type": "stream",
          "text": [
            "(101, 16)\n",
            "(101, 7)\n"
          ],
          "name": "stdout"
        }
      ]
    },
    {
      "cell_type": "code",
      "metadata": {
        "id": "pfhywnQH7vrY",
        "outputId": "190dcbaf-9efd-4d71-992a-d41aa5413950",
        "colab": {
          "base_uri": "https://localhost:8080/",
          "height": 572
        }
      },
      "source": [
        "# initialize the variables\n",
        "W = tf.Variable(tf.random.normal([16, 7]))\n",
        "b = tf.Variable(tf.random.normal([7]))\n",
        "\n",
        "print(W.numpy())"
      ],
      "execution_count": 50,
      "outputs": [
        {
          "output_type": "stream",
          "text": [
            "[[-0.02024945  2.2436645  -0.3504013   0.03615203 -0.42295384 -0.05372311\n",
            "  -2.899066  ]\n",
            " [-0.39605343  0.43462005  1.3968053   2.8523948   0.30932766 -0.6993349\n",
            "  -0.16902241]\n",
            " [-0.2076432  -1.1195499   0.04066771  1.1970735   1.1558977   0.90011865\n",
            "  -1.409623  ]\n",
            " [ 3.658415    0.46351415 -0.9704024   0.31088263 -0.7054393  -0.42168263\n",
            "   0.6267286 ]\n",
            " [ 0.10103312  0.23256825  1.4911426   0.00673932 -0.5886298   1.4188979\n",
            "   1.1518407 ]\n",
            " [ 0.28439945 -1.3698899  -0.45730296 -1.6179603   1.5069158   1.5320723\n",
            "   0.32169214]\n",
            " [-0.23315333 -1.2260298  -0.20720561 -1.0834594  -1.4734671  -0.46172002\n",
            "   0.6614839 ]\n",
            " [-0.6336018   1.0821158  -0.6146318   0.99988794  0.4701772   1.6525385\n",
            "  -0.8558768 ]\n",
            " [ 1.5001061  -0.2242447   1.949952   -2.126988   -0.44817838 -0.13736278\n",
            "   0.6110684 ]\n",
            " [ 0.61475396 -0.14767304  0.5289491  -1.3826345  -0.78454745 -1.1588423\n",
            "   1.4229065 ]\n",
            " [ 0.8049735  -0.5146065  -1.2408112   1.6487114   1.6021543  -0.7977655\n",
            "  -0.6400068 ]\n",
            " [-0.4990754  -1.010472   -1.2434447  -1.557032    0.12033536 -1.9158281\n",
            "  -1.2140838 ]\n",
            " [-0.99717575 -0.7996511  -0.98047423 -0.19185382 -0.66495544  0.30063227\n",
            "  -0.16110615]\n",
            " [-0.42616394  1.6324582  -0.08492437  0.7707572  -0.05068256 -0.6348713\n",
            "  -0.37210894]\n",
            " [ 0.99949914 -0.27083963 -0.722536    1.0883558  -0.03642943  0.56984204\n",
            "   0.5736088 ]\n",
            " [-0.9244973   0.1356748  -0.4941078   1.5921901  -0.69919294 -0.8697499\n",
            "   2.646659  ]]\n"
          ],
          "name": "stdout"
        }
      ]
    },
    {
      "cell_type": "code",
      "metadata": {
        "id": "-xY0CM5j8DHD"
      },
      "source": [
        "# logit function\n",
        "def logit_fn(x):\n",
        "  logit = tf.matmul(x, W)+b\n",
        "  return logit"
      ],
      "execution_count": 51,
      "outputs": []
    },
    {
      "cell_type": "code",
      "metadata": {
        "id": "hpHhTw158WAv"
      },
      "source": [
        "# hypothesis\n",
        "def hypothesis_fn(x):\n",
        "  logit = logit_fn(x)\n",
        "  hypothesis = tf.nn.softmax(logit)\n",
        "  return hypothesis"
      ],
      "execution_count": 52,
      "outputs": []
    },
    {
      "cell_type": "code",
      "metadata": {
        "id": "MrNRzDZ382Zl"
      },
      "source": [
        "# cost function\n",
        "def cost_fn(x, y):\n",
        "  hypothesis = hypothesis_fn(x)\n",
        "  logit = logit_fn(x)\n",
        "  cost = tf.reduce_mean(tf.nn.softmax_cross_entropy_with_logits(y, logits=logit))\n",
        "  return cost"
      ],
      "execution_count": 53,
      "outputs": []
    },
    {
      "cell_type": "code",
      "metadata": {
        "id": "3ybhTNC995CQ"
      },
      "source": [
        "# calculate the gradient\n",
        "def grad(x, y):\n",
        "  with tf.GradientTape() as tape:\n",
        "    loss_value = cost_fn(x, y)\n",
        "  return tape.gradient(loss_value, [W, b])\n",
        "\n",
        "optimizer = tf.keras.optimizers.SGD(learning_rate=0.01)"
      ],
      "execution_count": 54,
      "outputs": []
    },
    {
      "cell_type": "code",
      "metadata": {
        "id": "M0ULhW36_C35",
        "outputId": "d0e156f3-7c5c-470a-ace9-0303732828af",
        "colab": {
          "base_uri": "https://localhost:8080/",
          "height": 208
        }
      },
      "source": [
        "for step in range(2001):\n",
        "  for feature, label in iter(dataset):\n",
        "    grads = grad(feature, label)\n",
        "    optimizer.apply_gradients(grads_and_vars=zip(grads, [W, b]))\n",
        "    cost = cost_fn(feature, label)\n",
        "\n",
        "    if step%200 == 0:\n",
        "      print('step: {} cost: {:.4f}'.format(step, cost.numpy()))"
      ],
      "execution_count": 57,
      "outputs": [
        {
          "output_type": "stream",
          "text": [
            "step: 0 cost: 3.6286\n",
            "step: 200 cost: 1.4340\n",
            "step: 400 cost: 0.9909\n",
            "step: 600 cost: 0.7838\n",
            "step: 800 cost: 0.6643\n",
            "step: 1000 cost: 0.5840\n",
            "step: 1200 cost: 0.5240\n",
            "step: 1400 cost: 0.4762\n",
            "step: 1600 cost: 0.4366\n",
            "step: 1800 cost: 0.4029\n",
            "step: 2000 cost: 0.3740\n"
          ],
          "name": "stdout"
        }
      ]
    },
    {
      "cell_type": "code",
      "metadata": {
        "id": "U0o_CTv-AEWi",
        "outputId": "dc165775-308c-4585-c94d-d52c36bf70ff",
        "colab": {
          "base_uri": "https://localhost:8080/",
          "height": 52
        }
      },
      "source": [
        "print(x_data[3])\n",
        "print(y_data[3])"
      ],
      "execution_count": 59,
      "outputs": [
        {
          "output_type": "stream",
          "text": [
            "[1. 0. 0. 1. 0. 0. 1. 1. 1. 1. 0. 0. 4. 0. 0. 1.]\n",
            "tf.Tensor([1. 0. 0. 0. 0. 0. 0.], shape=(7,), dtype=float32)\n"
          ],
          "name": "stdout"
        }
      ]
    },
    {
      "cell_type": "code",
      "metadata": {
        "id": "6EU8y9IhIXqe",
        "outputId": "99a65a18-51d7-4215-cb8d-6be1b8545663",
        "colab": {
          "base_uri": "https://localhost:8080/",
          "height": 35
        }
      },
      "source": [
        "x_data = [[1., 0., 0., 1., 0., 0., 1., 1., 1., 1., 0., 0., 4., 0., 0., 1.]]\n",
        "x_data = np.array(x_data, dtype=np.float32)\n",
        "\n",
        "y_estimate = hypothesis_fn(x_data)\n",
        "print(tf.argmax(y_estimate, 1))"
      ],
      "execution_count": 69,
      "outputs": [
        {
          "output_type": "stream",
          "text": [
            "tf.Tensor([0], shape=(1,), dtype=int64)\n"
          ],
          "name": "stdout"
        }
      ]
    },
    {
      "cell_type": "code",
      "metadata": {
        "id": "i6FWP2ZiIpGv"
      },
      "source": [
        ""
      ],
      "execution_count": null,
      "outputs": []
    }
  ]
}