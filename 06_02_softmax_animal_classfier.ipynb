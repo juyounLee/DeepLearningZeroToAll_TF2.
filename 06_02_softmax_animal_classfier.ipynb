{
  "nbformat": 4,
  "nbformat_minor": 0,
  "metadata": {
    "colab": {
      "name": "06-02-softmax-animal-classfier.ipynb",
      "provenance": [],
      "collapsed_sections": [],
      "authorship_tag": "ABX9TyPvUpNT+iX0rFEtkIZU5MG9",
      "include_colab_link": true
    },
    "kernelspec": {
      "name": "python3",
      "display_name": "Python 3"
    }
  },
  "cells": [
    {
      "cell_type": "markdown",
      "metadata": {
        "id": "view-in-github",
        "colab_type": "text"
      },
      "source": [
        "<a href=\"https://colab.research.google.com/github/juyounLee/DeepLearningZeroToAll_TF2./blob/main/06_02_softmax_animal_classfier.ipynb\" target=\"_parent\"><img src=\"https://colab.research.google.com/assets/colab-badge.svg\" alt=\"Open In Colab\"/></a>"
      ]
    },
    {
      "cell_type": "code",
      "metadata": {
        "id": "ZFw8wcMW4ovS"
      },
      "source": [
        "import tensorflow as tf\n",
        "import numpy as np\n",
        "import math"
      ],
      "execution_count": 1,
      "outputs": []
    },
    {
      "cell_type": "code",
      "metadata": {
        "id": "2lWvwg-c4wWZ"
      },
      "source": [
        "# load the data\n",
        "xy = np.loadtxt('/content/sample_data/data-04-zoo.csv', delimiter= ',', dtype=np.float32)\n",
        "x_data = xy[:, :-1]\n",
        "y_data = xy[:, [-1]]\n",
        "\n",
        "x_data = np.array(x_data, dtype=np.float32)\n",
        "y_data = np.array(y_data, dtype=np.int32)"
      ],
      "execution_count": 2,
      "outputs": []
    },
    {
      "cell_type": "code",
      "metadata": {
        "id": "e1mFTow67Pv4"
      },
      "source": [
        "# make y_data as one_hot shape\n",
        "y_data = tf.one_hot(list(y_data), 7) \n",
        "y_data = tf.reshape(y_data, [-1, 7])"
      ],
      "execution_count": 3,
      "outputs": []
    },
    {
      "cell_type": "code",
      "metadata": {
        "id": "OPuCtUiM_Qc6"
      },
      "source": [
        "dataset = tf.data.Dataset.from_tensor_slices((x_data, y_data)).batch(len(x_data))"
      ],
      "execution_count": 4,
      "outputs": []
    },
    {
      "cell_type": "code",
      "metadata": {
        "id": "yLJm17Zh7mSM",
        "outputId": "4fecd5a6-132c-4e24-c2d0-9a35726fedc8",
        "colab": {
          "base_uri": "https://localhost:8080/",
          "height": 52
        }
      },
      "source": [
        "print(x_data.shape)\n",
        "print(y_data.shape)"
      ],
      "execution_count": 5,
      "outputs": [
        {
          "output_type": "stream",
          "text": [
            "(101, 16)\n",
            "(101, 7)\n"
          ],
          "name": "stdout"
        }
      ]
    },
    {
      "cell_type": "code",
      "metadata": {
        "id": "pfhywnQH7vrY",
        "outputId": "22d04056-51bb-4985-8c1f-59199ad40a3d",
        "colab": {
          "base_uri": "https://localhost:8080/",
          "height": 572
        }
      },
      "source": [
        "# initialize the variables\n",
        "W = tf.Variable(tf.random.normal([16, 7]))\n",
        "b = tf.Variable(tf.random.normal([7]))\n",
        "\n",
        "print(W.numpy())"
      ],
      "execution_count": 6,
      "outputs": [
        {
          "output_type": "stream",
          "text": [
            "[[-0.7120378   0.77628875  1.112596    0.8115335   0.23963797 -0.52076346\n",
            "   0.07427558]\n",
            " [ 0.22650367  1.2130828  -1.7152549  -0.43047753 -0.6392438  -0.6624469\n",
            "   0.8196744 ]\n",
            " [-0.09425044  0.8666857  -1.6672714   4.0496564  -0.7628796   0.04840175\n",
            "   1.2660315 ]\n",
            " [-1.1925535  -0.53776443  1.358448   -0.8446073  -0.3432678  -0.82670623\n",
            "   1.8647814 ]\n",
            " [-0.5270981   1.1953229  -0.43455172  0.20463017 -1.7230135   0.7742736\n",
            "   0.11500566]\n",
            " [-0.27446225  0.10821293  1.3513514   0.8484344  -0.5787349   0.12900735\n",
            "   0.32798636]\n",
            " [ 1.3859396  -0.6353007   0.03988767  1.7774875  -0.9470912  -1.7416054\n",
            "   1.0290751 ]\n",
            " [ 1.1605405   0.25207672  0.13058601 -1.5434034   1.7146838   1.5707067\n",
            "  -0.02131092]\n",
            " [ 0.8442215   0.43102753  0.17313214  1.0295749  -0.7465863  -0.18633588\n",
            "   1.0344824 ]\n",
            " [ 1.5166847   0.81611186  2.0466194  -0.49472374  0.05862716 -0.00836055\n",
            "  -1.1195561 ]\n",
            " [ 0.37198043  1.1749257  -1.5135643   0.22299306  0.62729144  0.8288711\n",
            "  -1.3561667 ]\n",
            " [-2.0089161   0.07909955  0.76375735 -0.5944367  -0.4923873   0.30329365\n",
            "  -0.79277414]\n",
            " [-0.18228826  1.6358211   1.7484483  -1.5501748   1.0810091   0.79156315\n",
            "  -0.53231215]\n",
            " [ 0.43197817  0.05155941  0.05252081 -2.3086967   1.7446922  -0.32225853\n",
            "  -0.22492582]\n",
            " [-0.71233237 -0.78957784  0.36661083 -0.46239594  2.4789848  -1.0241042\n",
            "  -0.09617318]\n",
            " [ 0.3716229  -0.11115226 -0.13950491 -0.23919527  1.5053608  -0.11198564\n",
            "   1.4290656 ]]\n"
          ],
          "name": "stdout"
        }
      ]
    },
    {
      "cell_type": "code",
      "metadata": {
        "id": "-xY0CM5j8DHD"
      },
      "source": [
        "# logit function\n",
        "def logit_fn(x):\n",
        "  logit = tf.matmul(x, W)+b\n",
        "  return logit"
      ],
      "execution_count": 7,
      "outputs": []
    },
    {
      "cell_type": "code",
      "metadata": {
        "id": "hpHhTw158WAv"
      },
      "source": [
        "# hypothesis\n",
        "def hypothesis_fn(x):\n",
        "  logit = logit_fn(x)\n",
        "  hypothesis = tf.nn.softmax(logit)\n",
        "  return hypothesis"
      ],
      "execution_count": 8,
      "outputs": []
    },
    {
      "cell_type": "code",
      "metadata": {
        "id": "MrNRzDZ382Zl"
      },
      "source": [
        "# cost function\n",
        "def cost_fn(x, y):\n",
        "  hypothesis = hypothesis_fn(x)\n",
        "  logit = logit_fn(x)\n",
        "  cost = tf.reduce_mean(tf.nn.softmax_cross_entropy_with_logits(y, logits=logit))\n",
        "  return cost"
      ],
      "execution_count": 9,
      "outputs": []
    },
    {
      "cell_type": "code",
      "metadata": {
        "id": "3ybhTNC995CQ"
      },
      "source": [
        "# calculate the gradient\n",
        "def grad(x, y):\n",
        "  with tf.GradientTape() as tape:\n",
        "    loss_value = cost_fn(x, y)\n",
        "  return tape.gradient(loss_value, [W, b])\n",
        "\n",
        "optimizer = tf.keras.optimizers.SGD(learning_rate=0.01)"
      ],
      "execution_count": 10,
      "outputs": []
    },
    {
      "cell_type": "code",
      "metadata": {
        "id": "BGfyMS5QFNwa"
      },
      "source": [
        "# calculate accuracy\n",
        "def pred_fn(x, y):\n",
        "  hypothesis = tf.argmax(hypothesis_fn(x), 1)\n",
        "  correct_value = tf.math.equal(hypothesis, tf.argmax(y, 1))\n",
        "  accuracy = tf.reduce_mean(tf.cast(correct_value, dtype=tf.float32))\n",
        "  return accuracy"
      ],
      "execution_count": 11,
      "outputs": []
    },
    {
      "cell_type": "code",
      "metadata": {
        "id": "M0ULhW36_C35",
        "outputId": "c09b82c7-d565-465f-ba81-062a9edb3aab",
        "colab": {
          "base_uri": "https://localhost:8080/",
          "height": 208
        }
      },
      "source": [
        "for step in range(2001):\n",
        "  for feature, label in iter(dataset):\n",
        "    grads = grad(feature, label)\n",
        "    optimizer.apply_gradients(grads_and_vars=zip(grads, [W, b]))\n",
        "    cost = cost_fn(feature, label)\n",
        "    accuracy = pred_fn(feature, label)\n",
        "\n",
        "    if step%200 == 0:\n",
        "      print('step: {} cost: {:.4f} accuracy: {:8.4f}'.format(step, cost.numpy(), accuracy.numpy()))"
      ],
      "execution_count": 12,
      "outputs": [
        {
          "output_type": "stream",
          "text": [
            "step: 0 cost: 5.4530 accuracy:   0.1683\n",
            "step: 200 cost: 1.6956 accuracy:   0.5743\n",
            "step: 400 cost: 1.1788 accuracy:   0.7426\n",
            "step: 600 cost: 0.9966 accuracy:   0.8020\n",
            "step: 800 cost: 0.8831 accuracy:   0.8218\n",
            "step: 1000 cost: 0.7984 accuracy:   0.8317\n",
            "step: 1200 cost: 0.7316 accuracy:   0.8416\n",
            "step: 1400 cost: 0.6771 accuracy:   0.8416\n",
            "step: 1600 cost: 0.6311 accuracy:   0.8416\n",
            "step: 1800 cost: 0.5914 accuracy:   0.8515\n",
            "step: 2000 cost: 0.5566 accuracy:   0.8515\n"
          ],
          "name": "stdout"
        }
      ]
    },
    {
      "cell_type": "code",
      "metadata": {
        "id": "U0o_CTv-AEWi",
        "outputId": "1c637b30-a377-4f2b-c61d-1b0ecc06caff",
        "colab": {
          "base_uri": "https://localhost:8080/",
          "height": 52
        }
      },
      "source": [
        "print(x_data[3])\n",
        "print(y_data[3])"
      ],
      "execution_count": 13,
      "outputs": [
        {
          "output_type": "stream",
          "text": [
            "[1. 0. 0. 1. 0. 0. 1. 1. 1. 1. 0. 0. 4. 0. 0. 1.]\n",
            "tf.Tensor([1. 0. 0. 0. 0. 0. 0.], shape=(7,), dtype=float32)\n"
          ],
          "name": "stdout"
        }
      ]
    },
    {
      "cell_type": "code",
      "metadata": {
        "id": "6EU8y9IhIXqe",
        "outputId": "0b97a1a8-0720-47d2-90f5-4b5e08f32080",
        "colab": {
          "base_uri": "https://localhost:8080/",
          "height": 35
        }
      },
      "source": [
        "x_data = [[1., 0., 0., 1., 0., 0., 1., 1., 1., 1., 0., 0., 4., 0., 0., 1.]]\n",
        "x_data = np.array(x_data, dtype=np.float32)\n",
        "\n",
        "y_estimate = hypothesis_fn(x_data)\n",
        "print(tf.argmax(y_estimate, 1))"
      ],
      "execution_count": 14,
      "outputs": [
        {
          "output_type": "stream",
          "text": [
            "tf.Tensor([0], shape=(1,), dtype=int64)\n"
          ],
          "name": "stdout"
        }
      ]
    },
    {
      "cell_type": "code",
      "metadata": {
        "id": "1q3TFgs_GO-y"
      },
      "source": [
        ""
      ],
      "execution_count": 14,
      "outputs": []
    }
  ]
}