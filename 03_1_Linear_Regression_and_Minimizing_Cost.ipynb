{
  "nbformat": 4,
  "nbformat_minor": 0,
  "metadata": {
    "colab": {
      "name": "03-1-Linear-Regression-and-Minimizing-Cost.ipynb",
      "provenance": [],
      "authorship_tag": "ABX9TyNAAxec2VeLR45clq235mbo",
      "include_colab_link": true
    },
    "kernelspec": {
      "name": "python3",
      "display_name": "Python 3"
    }
  },
  "cells": [
    {
      "cell_type": "markdown",
      "metadata": {
        "id": "view-in-github",
        "colab_type": "text"
      },
      "source": [
        "<a href=\"https://colab.research.google.com/github/juyounLee/DeepLearningZeroToAll_TF2./blob/main/03_1_Linear_Regression_and_Minimizing_Cost.ipynb\" target=\"_parent\"><img src=\"https://colab.research.google.com/assets/colab-badge.svg\" alt=\"Open In Colab\"/></a>"
      ]
    },
    {
      "cell_type": "code",
      "metadata": {
        "id": "EoqbifTah1My"
      },
      "source": [
        "import tensorflow as tf\n",
        "import numpy as np\n",
        "import matplotlib.pyplot as plt"
      ],
      "execution_count": 1,
      "outputs": []
    },
    {
      "cell_type": "markdown",
      "metadata": {
        "id": "3AtNz-53kOy3"
      },
      "source": [
        "### Cost Function in Python"
      ]
    },
    {
      "cell_type": "code",
      "metadata": {
        "id": "8QeJol5aiMoM",
        "outputId": "b748eb62-9d50-4153-cff2-e523e9978cd5",
        "colab": {
          "base_uri": "https://localhost:8080/",
          "height": 280
        }
      },
      "source": [
        "x = np.array([1, 2, 3])\n",
        "y = np.array([1, 2, 3])\n",
        "\n",
        "def cost_func(W, x, y):\n",
        "  cost = 0\n",
        "  for i in range(len(x)):\n",
        "    cost += (W*x[i]-y[i])**2\n",
        "  return cost/len(x)\n",
        "\n",
        "for feed_w in np.linspace(-3, 5, num=15):\n",
        "  cost = cost_func(feed_w, x, y)\n",
        "  print('{:6.3f} | {:10.5f}'.format(feed_w, cost))"
      ],
      "execution_count": 2,
      "outputs": [
        {
          "output_type": "stream",
          "text": [
            "-3.000 |   74.66667\n",
            "-2.429 |   54.85714\n",
            "-1.857 |   38.09524\n",
            "-1.286 |   24.38095\n",
            "-0.714 |   13.71429\n",
            "-0.143 |    6.09524\n",
            " 0.429 |    1.52381\n",
            " 1.000 |    0.00000\n",
            " 1.571 |    1.52381\n",
            " 2.143 |    6.09524\n",
            " 2.714 |   13.71429\n",
            " 3.286 |   24.38095\n",
            " 3.857 |   38.09524\n",
            " 4.429 |   54.85714\n",
            " 5.000 |   74.66667\n"
          ],
          "name": "stdout"
        }
      ]
    },
    {
      "cell_type": "markdown",
      "metadata": {
        "id": "9M6VkWLlkSP_"
      },
      "source": [
        "### Const Function in Tensorflow"
      ]
    },
    {
      "cell_type": "code",
      "metadata": {
        "id": "qUZ1O1ACj8xC",
        "outputId": "2a368e59-1642-45c6-d2bd-19ba8697bee3",
        "colab": {
          "base_uri": "https://localhost:8080/",
          "height": 280
        }
      },
      "source": [
        "x = np.array([1, 2, 3])\n",
        "y = np.array([1, 2, 3])\n",
        "\n",
        "cost = []\n",
        "w_values = np.linspace(-3, 5, num=15)\n",
        "\n",
        "def cost_func(W, x, y):\n",
        "  cost = tf.multiply(W, x) - y\n",
        "  cost = tf.multiply(cost, cost)\n",
        "  cost = tf.reduce_mean(cost)\n",
        "  return cost\n",
        "\n",
        "for feed_w in w_values:\n",
        "  curr_cost = cost_func(feed_w, x, y)\n",
        "  cost.append(curr_cost)\n",
        "  print('{:6.3f} | {:10.5f}'.format(feed_w, curr_cost))"
      ],
      "execution_count": 3,
      "outputs": [
        {
          "output_type": "stream",
          "text": [
            "-3.000 |   74.66667\n",
            "-2.429 |   54.85714\n",
            "-1.857 |   38.09524\n",
            "-1.286 |   24.38095\n",
            "-0.714 |   13.71429\n",
            "-0.143 |    6.09524\n",
            " 0.429 |    1.52381\n",
            " 1.000 |    0.00000\n",
            " 1.571 |    1.52381\n",
            " 2.143 |    6.09524\n",
            " 2.714 |   13.71429\n",
            " 3.286 |   24.38095\n",
            " 3.857 |   38.09524\n",
            " 4.429 |   54.85714\n",
            " 5.000 |   74.66667\n"
          ],
          "name": "stdout"
        }
      ]
    },
    {
      "cell_type": "markdown",
      "metadata": {
        "id": "WmAWci7bm898"
      },
      "source": [
        "### Draw the graph"
      ]
    },
    {
      "cell_type": "code",
      "metadata": {
        "id": "3gWE0HPmmaJr",
        "outputId": "0f2c2e35-fb2c-4437-df0b-b4a2ba9527a7",
        "colab": {
          "base_uri": "https://localhost:8080/",
          "height": 296
        }
      },
      "source": [
        "plt.plot(w_values, cost, 'r-')\n",
        "plt.xlabel('W')\n",
        "plt.ylabel('Cost')"
      ],
      "execution_count": 4,
      "outputs": [
        {
          "output_type": "execute_result",
          "data": {
            "text/plain": [
              "Text(0, 0.5, 'Cost')"
            ]
          },
          "metadata": {
            "tags": []
          },
          "execution_count": 4
        },
        {
          "output_type": "display_data",
          "data": {
            "image/png": "[encoded data removed]",
            "text/plain": [
              "<Figure size 432x288 with 1 Axes>"
            ]
          },
          "metadata": {
            "tags": [],
            "needs_background": "light"
          }
        }
      ]
    },
    {
      "cell_type": "markdown",
      "metadata": {
        "id": "NG_UWDa1oxmR"
      },
      "source": [
        "### Gradient descent 구현"
      ]
    },
    {
      "cell_type": "code",
      "metadata": {
        "id": "TXoy1WX0t7FW"
      },
      "source": [
        "tf.random.set_seed(0) # for reproducibility"
      ],
      "execution_count": 6,
      "outputs": []
    },
    {
      "cell_type": "code",
      "metadata": {
        "id": "CWmViQWAnXI5",
        "outputId": "eb709189-435c-47ce-cdbd-e7a22ecd7912",
        "colab": {
          "base_uri": "https://localhost:8080/",
          "height": 562
        }
      },
      "source": [
        "W = tf.Variable(tf.random.normal([1], -100., 100))\n",
        "print(W)\n",
        "\n",
        "a = 0.01\n",
        "\n",
        "for i in range(300):\n",
        "  cost = tf.reduce_mean(tf.square((W*x-y)))\n",
        "  w_grad = tf.reduce_mean(tf.multiply((tf.multiply(W, x)-y), x))\n",
        "  descent = W - tf.multiply(a, w_grad)\n",
        "  W.assign(descent)\n",
        "\n",
        "  if i%10 == 0:\n",
        "    print('{:5} | {:8.3f} | {:10.5f}'.format(i, W.numpy()[0], cost))"
      ],
      "execution_count": 17,
      "outputs": [
        {
          "output_type": "stream",
          "text": [
            "<tf.Variable 'Variable:0' shape=(1,) dtype=float32, numpy=array([124.84924], dtype=float32)>\n",
            "    0 |  119.070 | 71580.29688\n",
            "   10 |   74.213 | 27522.58008\n",
            "   20 |   46.398 | 10582.41406\n",
            "   30 |   29.150 | 4068.92993\n",
            "   40 |   18.455 | 1564.50061\n",
            "   50 |   11.824 |  601.54950\n",
            "   60 |    7.712 |  231.29529\n",
            "   70 |    5.162 |   88.93289\n",
            "   80 |    3.581 |   34.19465\n",
            "   90 |    2.600 |   13.14782\n",
            "  100 |    1.992 |    5.05533\n",
            "  110 |    1.615 |    1.94377\n",
            "  120 |    1.382 |    0.74738\n",
            "  130 |    1.237 |    0.28737\n",
            "  140 |    1.147 |    0.11049\n",
            "  150 |    1.091 |    0.04248\n",
            "  160 |    1.056 |    0.01634\n",
            "  170 |    1.035 |    0.00628\n",
            "  180 |    1.022 |    0.00241\n",
            "  190 |    1.013 |    0.00093\n",
            "  200 |    1.008 |    0.00036\n",
            "  210 |    1.005 |    0.00014\n",
            "  220 |    1.003 |    0.00005\n",
            "  230 |    1.002 |    0.00002\n",
            "  240 |    1.001 |    0.00001\n",
            "  250 |    1.001 |    0.00000\n",
            "  260 |    1.000 |    0.00000\n",
            "  270 |    1.000 |    0.00000\n",
            "  280 |    1.000 |    0.00000\n",
            "  290 |    1.000 |    0.00000\n"
          ],
          "name": "stdout"
        }
      ]
    },
    {
      "cell_type": "code",
      "metadata": {
        "id": "Dw5UsYhzvyRP",
        "outputId": "da6e612f-6dad-4cd4-c39d-da85b4c55359",
        "colab": {
          "base_uri": "https://localhost:8080/",
          "height": 52
        }
      },
      "source": [
        "# predict\n",
        "print(W*2.5)\n",
        "print(W*5.)"
      ],
      "execution_count": 18,
      "outputs": [
        {
          "output_type": "stream",
          "text": [
            "tf.Tensor([2.5001838], shape=(1,), dtype=float32)\n",
            "tf.Tensor([5.0003676], shape=(1,), dtype=float32)\n"
          ],
          "name": "stdout"
        }
      ]
    },
    {
      "cell_type": "code",
      "metadata": {
        "id": "Hjs0kfnC4CwE"
      },
      "source": [
        ""
      ],
      "execution_count": null,
      "outputs": []
    }
  ]
}