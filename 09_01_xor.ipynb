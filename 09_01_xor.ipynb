{
  "nbformat": 4,
  "nbformat_minor": 0,
  "metadata": {
    "colab": {
      "name": "09-01-xor.ipynb",
      "provenance": [],
      "collapsed_sections": [],
      "authorship_tag": "ABX9TyPjR1euGktNG5nJDt87/NmF",
      "include_colab_link": true
    },
    "kernelspec": {
      "name": "python3",
      "display_name": "Python 3"
    }
  },
  "cells": [
    {
      "cell_type": "markdown",
      "metadata": {
        "id": "view-in-github",
        "colab_type": "text"
      },
      "source": [
        "<a href=\"https://colab.research.google.com/github/juyounLee/DeepLearningZeroToAll_TF2./blob/main/09_01_xor.ipynb\" target=\"_parent\"><img src=\"https://colab.research.google.com/assets/colab-badge.svg\" alt=\"Open In Colab\"/></a>"
      ]
    },
    {
      "cell_type": "code",
      "metadata": {
        "id": "_aqKNxjBOnd6"
      },
      "source": [
        "import tensorflow as tf\n",
        "import numpy as np\n",
        "import math"
      ],
      "execution_count": 17,
      "outputs": []
    },
    {
      "cell_type": "code",
      "metadata": {
        "id": "VJBk9jQKO5_b"
      },
      "source": [
        "# data\n",
        "x = np.array([[0, 0], [0, 1], [1, 0], [1, 1]], dtype=np.float32)\n",
        "y = np.array([[0], [1], [1], [0]], dtype=np.float32)"
      ],
      "execution_count": 18,
      "outputs": []
    },
    {
      "cell_type": "code",
      "metadata": {
        "id": "dgFsRzmiXPSE"
      },
      "source": [
        "dataset = tf.data.Dataset.from_tensor_slices((x, y)).batch(len(x))"
      ],
      "execution_count": 19,
      "outputs": []
    },
    {
      "cell_type": "code",
      "metadata": {
        "id": "VH1TJaDoYfh4"
      },
      "source": [
        "# initialize the variables\n",
        "W1 = tf.Variable(tf.random.normal([2, 10]))\n",
        "b1 = tf.Variable(tf.random.normal([10]))\n",
        "\n",
        "W2 = tf.Variable(tf.random.normal([10, 10]))\n",
        "b2 = tf.Variable(tf.random.normal([10]))\n",
        "\n",
        "W3 = tf.Variable(tf.random.normal([10, 1]))\n",
        "b3 = tf.Variable(tf.random.normal([1]))"
      ],
      "execution_count": 20,
      "outputs": []
    },
    {
      "cell_type": "code",
      "metadata": {
        "id": "zRWGzKyRPFAC"
      },
      "source": [
        "# sigmoid function\n",
        "def sig_fn(x):\n",
        "\n",
        "  layer1 = tf.sigmoid(tf.matmul(x, W1) + b1)\n",
        "  \n",
        "  layer2 = tf.sigmoid(tf.matmul(layer1, W2) + b2)\n",
        "\n",
        "  layer3 = tf.sigmoid(tf.matmul(layer2, W3) + b3)  \n",
        "\n",
        "  return layer3"
      ],
      "execution_count": 21,
      "outputs": []
    },
    {
      "cell_type": "code",
      "metadata": {
        "id": "SWHCYe6fQ01G"
      },
      "source": [
        "# cost function\n",
        "def cost_fn(x, y):\n",
        "  hypothesis = sig_fn(x)\n",
        "  cost = -tf.reduce_mean(y*tf.math.log(hypothesis) + (1-y)*tf.math.log(1-hypothesis))\n",
        "  return cost"
      ],
      "execution_count": 22,
      "outputs": []
    },
    {
      "cell_type": "code",
      "metadata": {
        "id": "bKKuelMDVlmD"
      },
      "source": [
        "optimizer = tf.keras.optimizers.SGD(learning_rate=0.01)"
      ],
      "execution_count": 23,
      "outputs": []
    },
    {
      "cell_type": "code",
      "metadata": {
        "id": "kpwkdOo3V3QK"
      },
      "source": [
        "# calculate the gradient\n",
        "def grad_fn(x, y):\n",
        "  with tf.GradientTape() as tape:\n",
        "    cost = cost_fn(x, y)\n",
        "  return tape.gradient(cost, [W1, W2, W3, b1, b2, b3])  "
      ],
      "execution_count": 24,
      "outputs": []
    },
    {
      "cell_type": "code",
      "metadata": {
        "id": "F28NtUjhWT_s"
      },
      "source": [
        "# calculate the accuracy\n",
        "def accu_fn(x, y):\n",
        "  y_pred = tf.cast(sig_fn(x) > 0.5, dtype=tf.float32)\n",
        "  accuracy = tf.reduce_mean(tf.cast(tf.equal(y_pred, y), dtype=tf.float32))\n",
        "  return accuracy"
      ],
      "execution_count": 31,
      "outputs": []
    },
    {
      "cell_type": "code",
      "metadata": {
        "id": "KWVBNmZbXE5M",
        "outputId": "06b8b3f5-1353-4deb-9bd7-1c0e76b98dd3",
        "colab": {
          "base_uri": "https://localhost:8080/"
        }
      },
      "source": [
        "for i in range(50000):\n",
        "  for feature, label in iter(dataset):\n",
        "    grad = grad_fn(feature, label)\n",
        "    optimizer.apply_gradients(grads_and_vars=zip(grad, [W1, W2, W3, b1, b2, b3]))\n",
        "    loss = cost_fn(x, y)\n",
        "\n",
        "    if i%10000==0:\n",
        "      print('step: {} loss: {:.4f}'.format(i, loss.numpy()))"
      ],
      "execution_count": 26,
      "outputs": [
        {
          "output_type": "stream",
          "text": [
            "step: 0 loss: 1.0359\n",
            "step: 10000 loss: 0.4933\n",
            "step: 20000 loss: 0.0967\n",
            "step: 30000 loss: 0.0253\n",
            "step: 40000 loss: 0.0123\n"
          ],
          "name": "stdout"
        }
      ]
    },
    {
      "cell_type": "code",
      "metadata": {
        "id": "xb4Xk2i0YYbM",
        "outputId": "56e1f9b1-2a8e-4850-e246-fdc7053e9ea7",
        "colab": {
          "base_uri": "https://localhost:8080/"
        }
      },
      "source": [
        "# calculate the accuracy\n",
        "accuracy = accu_fn(x, y)\n",
        "print('Accuracy: {:.4f}'.format(accuracy.numpy()))"
      ],
      "execution_count": 32,
      "outputs": [
        {
          "output_type": "stream",
          "text": [
            "Accuracy: 1.0000\n"
          ],
          "name": "stdout"
        }
      ]
    },
    {
      "cell_type": "code",
      "metadata": {
        "id": "65MFajp_Zr18",
        "outputId": "67385cda-6d7f-4b5e-901d-2230ed59c2eb",
        "colab": {
          "base_uri": "https://localhost:8080/"
        }
      },
      "source": [
        "print(sig_fn(x))"
      ],
      "execution_count": 33,
      "outputs": [
        {
          "output_type": "stream",
          "text": [
            "tf.Tensor(\n",
            "[[0.00390175]\n",
            " [0.9946983 ]\n",
            " [0.9903377 ]\n",
            " [0.01187754]], shape=(4, 1), dtype=float32)\n"
          ],
          "name": "stdout"
        }
      ]
    },
    {
      "cell_type": "code",
      "metadata": {
        "id": "lYJcP9i8HabV"
      },
      "source": [
        ""
      ],
      "execution_count": null,
      "outputs": []
    }
  ]
}