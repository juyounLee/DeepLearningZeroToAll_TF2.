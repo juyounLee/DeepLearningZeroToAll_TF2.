{
  "nbformat": 4,
  "nbformat_minor": 0,
  "metadata": {
    "colab": {
      "name": "05-01-Logistic-Regression-Binary.ipynb",
      "provenance": [],
      "collapsed_sections": [],
      "authorship_tag": "ABX9TyPNflsNbr0Oh4RwmOV1Uio5",
      "include_colab_link": true
    },
    "kernelspec": {
      "name": "python3",
      "display_name": "Python 3"
    }
  },
  "cells": [
    {
      "cell_type": "markdown",
      "metadata": {
        "id": "view-in-github",
        "colab_type": "text"
      },
      "source": [
        "<a href=\"https://colab.research.google.com/github/juyounLee/DeepLearningZeroToAll_TF2./blob/main/05_01_Logistic_Regression_Binary.ipynb\" target=\"_parent\"><img src=\"https://colab.research.google.com/assets/colab-badge.svg\" alt=\"Open In Colab\"/></a>"
      ]
    },
    {
      "cell_type": "code",
      "metadata": {
        "id": "tA8aB9xFMPag"
      },
      "source": [
        "import tensorflow as tf\n",
        "import numpy as np\n",
        "import math"
      ],
      "execution_count": 1,
      "outputs": []
    },
    {
      "cell_type": "code",
      "metadata": {
        "id": "0AhJ_i5KMS-q"
      },
      "source": [
        "# data\n",
        "x_train = [[1., 2.],\n",
        "          [2., 3.],\n",
        "          [3., 1.],\n",
        "          [4., 3.],\n",
        "          [5., 3.],\n",
        "          [6., 2.]]\n",
        "y_train = [[0.],\n",
        "          [0.],\n",
        "          [0.],\n",
        "          [1.],\n",
        "          [1.],\n",
        "          [1.]]"
      ],
      "execution_count": 2,
      "outputs": []
    },
    {
      "cell_type": "code",
      "metadata": {
        "id": "m5HB-v6vIPAE",
        "outputId": "fd97fefe-9cd6-4f71-e749-e22180824694",
        "colab": {
          "base_uri": "https://localhost:8080/",
          "height": 69
        }
      },
      "source": [
        "# 변수 W와 b를 초기화합니다.\n",
        "W = tf.Variable(tf.random.normal([2,1]))\n",
        "b = tf.Variable(tf.random.normal([1]))\n",
        "\n",
        "print(W.numpy())\n",
        "print(b.numpy())"
      ],
      "execution_count": 3,
      "outputs": [
        {
          "output_type": "stream",
          "text": [
            "[[-2.3354757 ]\n",
            " [ 0.18048511]]\n",
            "[-0.4744055]\n"
          ],
          "name": "stdout"
        }
      ]
    },
    {
      "cell_type": "markdown",
      "metadata": {
        "id": "4FwRDDFTv27c"
      },
      "source": [
        "### tf.data, tf.data.Dataset\n",
        "\n",
        "- 가지고 있는 데이터를 model에 넣기위해 적합한 텐서로 변환한다.\n",
        "\n",
        "- tf.data.Dataset 은 데이터의 병렬 처리를 쉽게 하기 위하여 GPU가 연산이 끝나면 다음 데이터를 즉시 Pre-Fetch 처리하기 위한 목적이다. \n",
        "\n",
        "- tf.data.Dataset.from_tensor_slices(): 가지고 있는 데이터 source를 여러개의 Tensor로 분할한다."
      ]
    },
    {
      "cell_type": "code",
      "metadata": {
        "id": "JE7ffxq_hfx-"
      },
      "source": [
        "dataset = tf.data.Dataset.from_tensor_slices((x_train, y_train)).batch(len(x_train))"
      ],
      "execution_count": 4,
      "outputs": []
    },
    {
      "cell_type": "code",
      "metadata": {
        "id": "mVmsHmzVNklQ"
      },
      "source": [
        "# 선형회귀와 같은 형태로 예측한다.\n",
        "\n",
        "def hypo_func(feature):\n",
        "  hypothesis = tf.matmul(feature, W) + b\n",
        "  return hypothesis"
      ],
      "execution_count": 5,
      "outputs": []
    },
    {
      "cell_type": "code",
      "metadata": {
        "id": "wwML3zuRX29v"
      },
      "source": [
        "# Classification을 위해 hypothesis값을 'sigmoid'함수를 이용하여 0에서 1 사이의 값으로 변환시켜준다. \n",
        "def sig_func(feature):\n",
        "  h = hypo_func(feature)\n",
        "  sigmoid = tf.sigmoid(h)\n",
        "  return sigmoid"
      ],
      "execution_count": 6,
      "outputs": []
    },
    {
      "cell_type": "code",
      "metadata": {
        "id": "Qw4ohSBNYVhg"
      },
      "source": [
        "# sigmoid output을 위한 cost function. \n",
        "def cost_func(feature, label):\n",
        "  s = sig_func(feature)\n",
        "  cost = -tf.reduce_mean(label*tf.math.log(s) + (1-label)*tf.math.log(1-s))\n",
        "  return cost"
      ],
      "execution_count": 7,
      "outputs": []
    },
    {
      "cell_type": "code",
      "metadata": {
        "id": "0UfYb1fzk6Y0"
      },
      "source": [
        "def grad(sigmoid, feature, label):\n",
        "  with tf.GradientTape() as tape:\n",
        "    loss_value = cost_func(feature, label)\n",
        "  return tape.gradient(loss_value, [W,b])"
      ],
      "execution_count": 8,
      "outputs": []
    },
    {
      "cell_type": "code",
      "metadata": {
        "id": "pnAABdzybxG2"
      },
      "source": [
        "# 변수들의 gradient 계산\n",
        "optimizer = tf.keras.optimizers.SGD(learning_rate=0.001)"
      ],
      "execution_count": 9,
      "outputs": []
    },
    {
      "cell_type": "code",
      "metadata": {
        "id": "JiPlGlo8bZwX",
        "outputId": "accd9da3-9d41-417d-9ac7-daf19141ac17",
        "colab": {
          "base_uri": "https://localhost:8080/",
          "height": 208
        }
      },
      "source": [
        "for step in range(1001):\n",
        "  for feature, label in iter(dataset):\n",
        "    grads = grad(sig_func(feature), feature, label)\n",
        "    optimizer.apply_gradients(grads_and_vars=zip(grads,[W,b]))\n",
        "    cost = cost_func(feature, label)\n",
        "\n",
        "    if step%100 ==0:\n",
        "      print('step: {} cost: {:.5f}'.format(step, cost))\n",
        "    "
      ],
      "execution_count": 10,
      "outputs": [
        {
          "output_type": "stream",
          "text": [
            "step: 0 cost: 5.84273\n",
            "step: 100 cost: 5.03990\n",
            "step: 200 cost: 4.25673\n",
            "step: 300 cost: 3.50774\n",
            "step: 400 cost: 2.81477\n",
            "step: 500 cost: 2.20626\n",
            "step: 600 cost: 1.71498\n",
            "step: 700 cost: 1.36924\n",
            "step: 800 cost: 1.16259\n",
            "step: 900 cost: 1.05022\n",
            "step: 1000 cost: 0.98733\n"
          ],
          "name": "stdout"
        }
      ]
    },
    {
      "cell_type": "markdown",
      "metadata": {
        "id": "nW85KZTWyBSt"
      },
      "source": [
        "### 예측하기"
      ]
    },
    {
      "cell_type": "code",
      "metadata": {
        "id": "nIBwnr3YkxtF"
      },
      "source": [
        "# 예측할 data\n",
        "\n",
        "x_test = [[5.,2.]]\n",
        "y_test = [[1.]]"
      ],
      "execution_count": 11,
      "outputs": []
    },
    {
      "cell_type": "code",
      "metadata": {
        "id": "VzUdlthpyF_r"
      },
      "source": [
        "# sigmoid값이 0.5 이하이면 0의값을 그렇지 않으면 1의 값으로 return\n",
        "def y_pred_func(sigmoid):\n",
        "  y_pred = tf.cast(sigmoid > 0.5, dtype=tf.float32)\n",
        "  return y_pred"
      ],
      "execution_count": 12,
      "outputs": []
    },
    {
      "cell_type": "code",
      "metadata": {
        "id": "KO1m8fElyiuD",
        "outputId": "0a15f8ed-0983-496b-fbf5-653fa49d9913",
        "colab": {
          "base_uri": "https://localhost:8080/",
          "height": 35
        }
      },
      "source": [
        "sigmoid = sig_func(x_test)\n",
        "y_prediction = y_pred_func(sigmoid)\n",
        "print('y: ', y_prediction)"
      ],
      "execution_count": 13,
      "outputs": [
        {
          "output_type": "stream",
          "text": [
            "y:  tf.Tensor([[0.]], shape=(1, 1), dtype=float32)\n"
          ],
          "name": "stdout"
        }
      ]
    }
  ]
}