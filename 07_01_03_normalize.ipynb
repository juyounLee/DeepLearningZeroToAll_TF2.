{
  "nbformat": 4,
  "nbformat_minor": 0,
  "metadata": {
    "colab": {
      "name": "07-01-03-normalize.ipynb",
      "provenance": [],
      "authorship_tag": "ABX9TyOs7zlSkkUujFWr3O41JIfP",
      "include_colab_link": true
    },
    "kernelspec": {
      "name": "python3",
      "display_name": "Python 3"
    }
  },
  "cells": [
    {
      "cell_type": "markdown",
      "metadata": {
        "id": "view-in-github",
        "colab_type": "text"
      },
      "source": [
        "<a href=\"https://colab.research.google.com/github/juyounLee/DeepLearningZeroToAll_TF2./blob/main/07_01_03_normalize.ipynb\" target=\"_parent\"><img src=\"https://colab.research.google.com/assets/colab-badge.svg\" alt=\"Open In Colab\"/></a>"
      ]
    },
    {
      "cell_type": "code",
      "metadata": {
        "id": "J0_KZZD5q_Rz"
      },
      "source": [
        "import tensorflow as tf\n",
        "import math\n",
        "import numpy as np"
      ],
      "execution_count": 1,
      "outputs": []
    },
    {
      "cell_type": "code",
      "metadata": {
        "id": "vVn8Irn1q1wz"
      },
      "source": [
        "xy = np.array([[828.659973, 833.450012, 908100, 828.349976, 831.659973],\n",
        "               [823.02002, 828.070007, 1828100, 821.655029, 828.070007],\n",
        "               [819.929993, 824.400024, 1438100, 818.97998, 824.159973],\n",
        "               [816, 820.958984, 1008100, 815.48999, 819.23999],\n",
        "               [819.359985, 823, 1188100, 818.469971, 818.97998],\n",
        "               [819, 823, 1198100, 816, 820.450012],\n",
        "               [811.700012, 815.25, 1098100, 809.780029, 813.669983],\n",
        "               [809.51001, 816.659973, 1398100, 804.539978, 809.559998]])"
      ],
      "execution_count": 2,
      "outputs": []
    },
    {
      "cell_type": "code",
      "metadata": {
        "id": "iVyvbzRQq8Me",
        "outputId": "a3b246ff-e69c-4224-d5ff-1749b45fcb1d",
        "colab": {
          "base_uri": "https://localhost:8080/",
          "height": 157
        }
      },
      "source": [
        "# normalize function\n",
        "def normal_fn(xy):\n",
        "  numirator = xy - np.min(xy, 0)\n",
        "  denominator = np.max(xy, 0) - np.min(xy, 0)\n",
        "  return numirator / denominator\n",
        "\n",
        "xy = normal_fn(xy)\n",
        "print(xy)"
      ],
      "execution_count": 3,
      "outputs": [
        {
          "output_type": "stream",
          "text": [
            "[[1.         1.         0.         1.         1.        ]\n",
            " [0.70548491 0.70439552 1.         0.71881783 0.83755792]\n",
            " [0.54412549 0.50274824 0.57608696 0.60646801 0.6606331 ]\n",
            " [0.33890353 0.31368023 0.10869565 0.45989134 0.43800918]\n",
            " [0.51436    0.4258239  0.30434783 0.58504805 0.42624401]\n",
            " [0.49556179 0.4258239  0.31521739 0.48131134 0.49276137]\n",
            " [0.11436064 0.         0.20652174 0.22007776 0.18597238]\n",
            " [0.         0.07747099 0.5326087  0.         0.        ]]\n"
          ],
          "name": "stdout"
        }
      ]
    },
    {
      "cell_type": "code",
      "metadata": {
        "id": "EDmFsbgfrjNb"
      },
      "source": [
        "x = np.array(xy[:, :-1], dtype=np.float32)\n",
        "y = np.array(xy[:, [-1]], dtype=np.float32)"
      ],
      "execution_count": 4,
      "outputs": []
    },
    {
      "cell_type": "code",
      "metadata": {
        "id": "hYTG8G_CsuXh"
      },
      "source": [
        "dataset = tf.data.Dataset.from_tensor_slices((x, y)).batch(len(x))"
      ],
      "execution_count": 5,
      "outputs": []
    },
    {
      "cell_type": "code",
      "metadata": {
        "id": "htAKNMx9sznG"
      },
      "source": [
        "# initialize the variables\n",
        "W = tf.Variable(tf.random.normal([4, 1]))\n",
        "b = tf.Variable(tf.random.normal([1]))"
      ],
      "execution_count": 6,
      "outputs": []
    },
    {
      "cell_type": "code",
      "metadata": {
        "id": "AwohIL55tCBF"
      },
      "source": [
        "def linear_reg_fn(x):\n",
        "  hypothesis = tf.matmul(x, W) + b\n",
        "  return hypothesis\n"
      ],
      "execution_count": 7,
      "outputs": []
    },
    {
      "cell_type": "code",
      "metadata": {
        "id": "FtonYu83tm1R"
      },
      "source": [
        "def cost_fn(x, y):\n",
        "  cost = tf.reduce_mean(tf.math.square(linear_reg_fn(x)-y))\n",
        "  return cost"
      ],
      "execution_count": 8,
      "outputs": []
    },
    {
      "cell_type": "code",
      "metadata": {
        "id": "G1Bu6Ixxt0e3"
      },
      "source": [
        "optimizer = tf.keras.optimizers.SGD(learning_rate=0.01)"
      ],
      "execution_count": 9,
      "outputs": []
    },
    {
      "cell_type": "code",
      "metadata": {
        "id": "6cML7Dz8AFTs"
      },
      "source": [
        "def grad_fn(x, y):\n",
        "  with tf.GradientTape() as tape:\n",
        "    cost = cost_fn(x, y)\n",
        "  return tape.gradient(cost, [W, b])"
      ],
      "execution_count": 10,
      "outputs": []
    },
    {
      "cell_type": "code",
      "metadata": {
        "id": "XS8cAQaUuqRK",
        "outputId": "8414eefb-4d58-4808-8106-ea076e303eb9",
        "colab": {
          "base_uri": "https://localhost:8080/",
          "height": 210
        }
      },
      "source": [
        "for step in range(2001):\n",
        "  for feature, label in iter(dataset):\n",
        "    cost = cost_fn(feature, label)\n",
        "    grads = grad_fn(feature, label)\n",
        "    optimizer.apply_gradients(grads_and_vars=zip(grads, [W, b]))\n",
        "\n",
        "    if step%200==0:\n",
        "      print('step: {} cost: {:.5f}'.format(step, cost.numpy()))\n",
        "    "
      ],
      "execution_count": 11,
      "outputs": [
        {
          "output_type": "stream",
          "text": [
            "step: 0 cost: 0.72817\n",
            "step: 200 cost: 0.00792\n",
            "step: 400 cost: 0.00415\n",
            "step: 600 cost: 0.00315\n",
            "step: 800 cost: 0.00288\n",
            "step: 1000 cost: 0.00281\n",
            "step: 1200 cost: 0.00279\n",
            "step: 1400 cost: 0.00279\n",
            "step: 1600 cost: 0.00278\n",
            "step: 1800 cost: 0.00278\n",
            "step: 2000 cost: 0.00278\n"
          ],
          "name": "stdout"
        }
      ]
    },
    {
      "cell_type": "code",
      "metadata": {
        "id": "MKKdAfsEvMHD",
        "outputId": "ce9ee437-b30b-4844-8383-dcd9f5ce7b1d",
        "colab": {
          "base_uri": "https://localhost:8080/",
          "height": 193
        }
      },
      "source": [
        "# predict\n",
        "y_predict = linear_reg_fn(x)\n",
        "print(y_predict)\n",
        "\n",
        "accuracy = tf.reduce_mean(tf.math.square(y_predict-y))\n",
        "print('Accuracy: {:.5f}'.format(accuracy))"
      ],
      "execution_count": 12,
      "outputs": [
        {
          "output_type": "stream",
          "text": [
            "tf.Tensor(\n",
            "[[0.9844896 ]\n",
            " [0.82435966]\n",
            " [0.63243806]\n",
            " [0.41102272]\n",
            " [0.5597631 ]\n",
            " [0.46254936]\n",
            " [0.14996538]\n",
            " [0.01677664]], shape=(8, 1), dtype=float32)\n",
            "Accuracy: 0.00278\n"
          ],
          "name": "stdout"
        }
      ]
    },
    {
      "cell_type": "code",
      "metadata": {
        "id": "wRqbYgkhBTnf"
      },
      "source": [
        ""
      ],
      "execution_count": 12,
      "outputs": []
    }
  ]
}