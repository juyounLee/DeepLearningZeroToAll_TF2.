{
  "nbformat": 4,
  "nbformat_minor": 0,
  "metadata": {
    "colab": {
      "name": "07-01-01-train_test-learning-rate.ipynb",
      "provenance": [],
      "authorship_tag": "ABX9TyOe3thHBPD60Er1p2nl6HwY",
      "include_colab_link": true
    },
    "kernelspec": {
      "name": "python3",
      "display_name": "Python 3"
    }
  },
  "cells": [
    {
      "cell_type": "markdown",
      "metadata": {
        "id": "view-in-github",
        "colab_type": "text"
      },
      "source": [
        "<a href=\"https://colab.research.google.com/github/juyounLee/DeepLearningZeroToAll_TF2./blob/main/07_01_01_train_test_learning_rate.ipynb\" target=\"_parent\"><img src=\"https://colab.research.google.com/assets/colab-badge.svg\" alt=\"Open In Colab\"/></a>"
      ]
    },
    {
      "cell_type": "code",
      "metadata": {
        "id": "R9fMfTrJWbxm"
      },
      "source": [
        "import tensorflow as tf\n",
        "import math\n",
        "import numpy as np"
      ],
      "execution_count": 1,
      "outputs": []
    },
    {
      "cell_type": "code",
      "metadata": {
        "id": "urXCeB-RWnXR"
      },
      "source": [
        "# training and test dataset\n",
        "\n",
        "x_train = [[1, 2, 1],\n",
        "          [1, 3, 2],\n",
        "          [1, 3, 4],\n",
        "          [1, 5, 5],\n",
        "          [1, 7, 5],\n",
        "          [1, 2, 5],\n",
        "          [1, 6, 6],\n",
        "          [1, 7, 7]]\n",
        "\n",
        "y_train = [[0, 0, 1],\n",
        "          [0, 0, 1],\n",
        "          [0, 0, 1],\n",
        "          [0, 1, 0],\n",
        "          [0, 1, 0],\n",
        "          [0, 1, 0],\n",
        "          [1, 0, 0],\n",
        "          [1, 0, 0]]\n",
        "\n",
        "# Evaluation our model using this test dataset\n",
        "x_test = [[2, 1, 1],\n",
        "          [3, 1, 2],\n",
        "          [3, 3, 4]]\n",
        "y_test = [[0, 0, 1],\n",
        "          [0, 0, 1],\n",
        "          [0, 0, 1]]"
      ],
      "execution_count": 2,
      "outputs": []
    },
    {
      "cell_type": "code",
      "metadata": {
        "id": "dNlaODQ7cxm8"
      },
      "source": [
        "x_train = np.array(x_train, dtype=np.float32)\n",
        "y_train = np.array(y_train, dtype=np.int32)\n",
        "\n",
        "x_test = np.array(x_test, dtype=np.float32)\n",
        "y_test = np.array(y_test, dtype=np.int32)"
      ],
      "execution_count": 3,
      "outputs": []
    },
    {
      "cell_type": "code",
      "metadata": {
        "id": "CFB1dIR-YNOJ"
      },
      "source": [
        "dataset = tf.data.Dataset.from_tensor_slices((x_train, y_train)).batch(len(x_train))"
      ],
      "execution_count": 4,
      "outputs": []
    },
    {
      "cell_type": "code",
      "metadata": {
        "id": "Lcw7sSxfWw0X"
      },
      "source": [
        "# initialize the variables\n",
        "\n",
        "W = tf.Variable(tf.random.normal([3, 3]))\n",
        "b = tf.Variable(tf.random.normal([3]))"
      ],
      "execution_count": 5,
      "outputs": []
    },
    {
      "cell_type": "code",
      "metadata": {
        "id": "bHAp1TwQZjXT",
        "outputId": "9f6e97ca-e385-400b-fff5-c98abfc16a4a",
        "colab": {
          "base_uri": "https://localhost:8080/",
          "height": 157
        }
      },
      "source": [
        "# logits function\n",
        "def logit_fn(x):\n",
        "  logit = tf.matmul(x, W) + b\n",
        "  return logit\n",
        "\n",
        "print(logit_fn(x_train).numpy())"
      ],
      "execution_count": 6,
      "outputs": [
        {
          "output_type": "stream",
          "text": [
            "[[-0.24827361  1.2205905  -2.0596945 ]\n",
            " [-1.0338428   2.2924223  -2.52893   ]\n",
            " [-1.5994592   2.3946981  -2.6730804 ]\n",
            " [-2.8877897   4.4872236  -3.5394764 ]\n",
            " [-3.8933115   6.52861    -4.333797  ]\n",
            " [-1.3795063   1.4251426  -2.3479955 ]\n",
            " [-3.673359    5.559055   -4.008712  ]\n",
            " [-4.458928    6.630886   -4.477947  ]]\n"
          ],
          "name": "stdout"
        }
      ]
    },
    {
      "cell_type": "code",
      "metadata": {
        "id": "_xMOQTLwXk5y"
      },
      "source": [
        "# hypothesis function\n",
        "def hypothesis_fn(x):\n",
        "  logit = logit_fn(x)\n",
        "  hypothesis = tf.nn.softmax(logit)\n",
        "  return hypothesis"
      ],
      "execution_count": 7,
      "outputs": []
    },
    {
      "cell_type": "code",
      "metadata": {
        "id": "DfhptXSEYHxb"
      },
      "source": [
        "# cost function\n",
        "def cost_fn(x, y):\n",
        "  logit = logit_fn(x)\n",
        "  hypothesis = hypothesis_fn(x)\n",
        "  cost = tf.reduce_mean(tf.nn.softmax_cross_entropy_with_logits(y, logits=logit))\n",
        "  return cost"
      ],
      "execution_count": 8,
      "outputs": []
    },
    {
      "cell_type": "code",
      "metadata": {
        "id": "NnA3QNJrZ2Ij"
      },
      "source": [
        "# gradient function\n",
        "def grad(x, y):\n",
        "  with tf.GradientTape() as tape:\n",
        "    cost = cost_fn(x, y)\n",
        "  return tape.gradient(cost, [W, b])\n",
        "\n",
        "optimizer = tf.keras.optimizers.SGD(learning_rate=0.01)"
      ],
      "execution_count": 9,
      "outputs": []
    },
    {
      "cell_type": "code",
      "metadata": {
        "id": "75xH2sIqakqi"
      },
      "source": [
        "def pred_fn(x, y):\n",
        "  y_pred = tf.argmax(hypothesis_fn(x), 1)\n",
        "  correct_value = tf.math.equal(y_pred, tf.argmax(y, 1))\n",
        "  accuracy = tf.reduce_mean(tf.cast(correct_value, dtype=tf.float32))\n",
        "  return accuracy"
      ],
      "execution_count": 10,
      "outputs": []
    },
    {
      "cell_type": "code",
      "metadata": {
        "id": "XOLpuldVbZ8P",
        "outputId": "e1690087-6cee-4bc7-e968-cd15da91690b",
        "colab": {
          "base_uri": "https://localhost:8080/",
          "height": 210
        }
      },
      "source": [
        "for step in range(2001):\n",
        "  for feature, label in iter(dataset):\n",
        "    grads = grad(feature, label)\n",
        "    optimizer.apply_gradients(grads_and_vars=zip(grads, [W, b]))\n",
        "    cost = cost_fn(feature, label)\n",
        "\n",
        "    if step%200 == 0:\n",
        "      print('step: {} cost: {:.4f}'.format(step, cost.numpy()))"
      ],
      "execution_count": 11,
      "outputs": [
        {
          "output_type": "stream",
          "text": [
            "step: 0 cost: 4.0389\n",
            "step: 200 cost: 1.2280\n",
            "step: 400 cost: 1.0223\n",
            "step: 600 cost: 0.9023\n",
            "step: 800 cost: 0.8255\n",
            "step: 1000 cost: 0.7716\n",
            "step: 1200 cost: 0.7310\n",
            "step: 1400 cost: 0.6989\n",
            "step: 1600 cost: 0.6726\n",
            "step: 1800 cost: 0.6504\n",
            "step: 2000 cost: 0.6313\n"
          ],
          "name": "stdout"
        }
      ]
    },
    {
      "cell_type": "code",
      "metadata": {
        "id": "BLwDuDHYcA59",
        "outputId": "8c5d3de8-3997-43a5-ef8a-89725e2d2890",
        "colab": {
          "base_uri": "https://localhost:8080/",
          "height": 34
        }
      },
      "source": [
        "# calculate the accuracy\n",
        "accuracy = pred_fn(x_test, y_test)\n",
        "print('Accuracy: {:.5f}'.format(accuracy))"
      ],
      "execution_count": 12,
      "outputs": [
        {
          "output_type": "stream",
          "text": [
            "Accuracy: 1.00000\n"
          ],
          "name": "stdout"
        }
      ]
    },
    {
      "cell_type": "code",
      "metadata": {
        "id": "DF46X2MDdsOt",
        "outputId": "2a1d65c3-b727-4a6d-f300-83933292a669",
        "colab": {
          "base_uri": "https://localhost:8080/",
          "height": 52
        }
      },
      "source": [
        "x = [[3, 3, 4]]\n",
        "x = np.array(x, dtype=np.float32)\n",
        "print(logit_fn(x))\n",
        "y_pred = hypothesis_fn(x)\n",
        "print(tf.argmax(y_pred, 1))"
      ],
      "execution_count": 13,
      "outputs": [
        {
          "output_type": "stream",
          "text": [
            "tf.Tensor([[-6.3982244  -0.47135746  2.1973803 ]], shape=(1, 3), dtype=float32)\n",
            "tf.Tensor([2], shape=(1,), dtype=int64)\n"
          ],
          "name": "stdout"
        }
      ]
    },
    {
      "cell_type": "code",
      "metadata": {
        "id": "Uz_vNHqBd-JN"
      },
      "source": [
        ""
      ],
      "execution_count": 13,
      "outputs": []
    }
  ]
}