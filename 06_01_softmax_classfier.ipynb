{
  "nbformat": 4,
  "nbformat_minor": 0,
  "metadata": {
    "colab": {
      "name": "06-01-softmax-classfier.ipynb",
      "provenance": [],
      "collapsed_sections": [],
      "authorship_tag": "ABX9TyPrpH+Y2Wwfge4bmNPwVlWe",
      "include_colab_link": true
    },
    "kernelspec": {
      "name": "python3",
      "display_name": "Python 3"
    }
  },
  "cells": [
    {
      "cell_type": "markdown",
      "metadata": {
        "id": "view-in-github",
        "colab_type": "text"
      },
      "source": [
        "<a href=\"https://colab.research.google.com/github/juyounLee/DeepLearningZeroToAll_TF2./blob/main/06_01_softmax_classfier.ipynb\" target=\"_parent\"><img src=\"https://colab.research.google.com/assets/colab-badge.svg\" alt=\"Open In Colab\"/></a>"
      ]
    },
    {
      "cell_type": "code",
      "metadata": {
        "id": "kwTK8NzxjHmv"
      },
      "source": [
        "import tensorflow as tf\n",
        "import numpy as np\n",
        "import math"
      ],
      "execution_count": 77,
      "outputs": []
    },
    {
      "cell_type": "code",
      "metadata": {
        "id": "qEiWGLIRjNfd"
      },
      "source": [
        "# data\n",
        "\n",
        "x_data = [[1, 2, 1, 1],\n",
        "          [2, 1, 3, 2],\n",
        "          [3, 1, 3, 4],\n",
        "          [4, 1, 5, 5],\n",
        "          [1, 7, 5, 5],\n",
        "          [1, 2, 5, 6],\n",
        "          [1, 6, 6, 6],\n",
        "          [1, 7, 7, 7]]\n",
        "y_data = [[0, 0, 1],\n",
        "          [0, 0, 1],\n",
        "          [0, 0, 1],\n",
        "          [0, 1, 0],\n",
        "          [0, 1, 0],\n",
        "          [0, 1, 0],\n",
        "          [1, 0, 0],\n",
        "          [1, 0, 0]]\n",
        "\n",
        "x_data = np.array(x_data, dtype=np.float32)\n",
        "y_data = np.array(y_data, dtype=np.float32)"
      ],
      "execution_count": 78,
      "outputs": []
    },
    {
      "cell_type": "code",
      "metadata": {
        "id": "4TKU_YIHmDQn"
      },
      "source": [
        "dataset = tf.data.Dataset.from_tensor_slices((x_data, y_data)).batch(len(x_data))"
      ],
      "execution_count": 79,
      "outputs": []
    },
    {
      "cell_type": "code",
      "metadata": {
        "id": "Zz1zx6PkjYrX",
        "outputId": "10141c6b-3b00-4b1d-9572-b6c4f765e992",
        "colab": {
          "base_uri": "https://localhost:8080/",
          "height": 121
        }
      },
      "source": [
        "# initialize the variables\n",
        "\n",
        "W = tf.Variable(tf.random.normal([4, 3]))\n",
        "b = tf.Variable(tf.random.normal([3]))\n",
        "\n",
        "print(W)\n",
        "print(W.shape)"
      ],
      "execution_count": 80,
      "outputs": [
        {
          "output_type": "stream",
          "text": [
            "<tf.Variable 'Variable:0' shape=(4, 3) dtype=float32, numpy=\n",
            "array([[ 0.7266665 , -1.9571123 ,  1.1303487 ],\n",
            "       [ 0.1268285 , -0.6014654 , -0.29454297],\n",
            "       [-0.17672351,  1.2872624 , -0.9154209 ],\n",
            "       [ 1.1632898 , -0.3690995 , -0.2027912 ]], dtype=float32)>\n",
            "(4, 3)\n"
          ],
          "name": "stdout"
        }
      ]
    },
    {
      "cell_type": "code",
      "metadata": {
        "id": "zh1mtibJjtIm",
        "outputId": "5259f87e-8f8b-4c5c-fe33-afb6f3f0b537",
        "colab": {
          "base_uri": "https://localhost:8080/",
          "height": 35
        }
      },
      "source": [
        "# hypothesis\n",
        "def hypothesis(x):\n",
        "  hypothesis = tf.matmul(x, W) + b\n",
        "  return hypothesis\n",
        "\n",
        "print(hypothesis([[1., 2., 1., 1.]]))"
      ],
      "execution_count": 81,
      "outputs": [
        {
          "output_type": "stream",
          "text": [
            "tf.Tensor([[ 3.3089898 -3.2233095 -0.7119629]], shape=(1, 3), dtype=float32)\n"
          ],
          "name": "stdout"
        }
      ]
    },
    {
      "cell_type": "code",
      "metadata": {
        "id": "vMD9b-yRmSyY",
        "outputId": "519c994e-834a-4e1a-e80b-7eae3ed8b787",
        "colab": {
          "base_uri": "https://localhost:8080/",
          "height": 35
        }
      },
      "source": [
        "# softmax\n",
        "def softmax(x):\n",
        "  hypo = hypothesis(x)\n",
        "  y_estimate = tf.nn.softmax(hypo)\n",
        "  return y_estimate\n",
        "\n",
        "print(softmax([[1., 2., 1., 1.]]))"
      ],
      "execution_count": 82,
      "outputs": [
        {
          "output_type": "stream",
          "text": [
            "tf.Tensor([[0.98097736 0.00142797 0.01759468]], shape=(1, 3), dtype=float32)\n"
          ],
          "name": "stdout"
        }
      ]
    },
    {
      "cell_type": "code",
      "metadata": {
        "id": "co22kbnonHw5"
      },
      "source": [
        "# cost function\n",
        "def cost_fn(x, y):\n",
        "  y_estimate = softmax(x)\n",
        "  cost = -tf.reduce_mean(tf.reduce_sum(y*tf.math.log(y_estimate), axis=1))\n",
        "  return cost"
      ],
      "execution_count": 83,
      "outputs": []
    },
    {
      "cell_type": "code",
      "metadata": {
        "id": "KCWk0U-Fp3OC"
      },
      "source": [
        "def grad(x, y):\n",
        "  with tf.GradientTape() as tape:\n",
        "    loss_value = cost_fn(x, y)\n",
        "  return tape.gradient(loss_value, [W, b])"
      ],
      "execution_count": 84,
      "outputs": []
    },
    {
      "cell_type": "code",
      "metadata": {
        "id": "n0yhffW7qsMO"
      },
      "source": [
        "optimizer = tf.keras.optimizers.SGD(learning_rate=0.01)"
      ],
      "execution_count": 85,
      "outputs": []
    },
    {
      "cell_type": "code",
      "metadata": {
        "id": "qPpt_Yd-q7OE",
        "outputId": "1a9ff4d4-47dd-429d-d211-403fd3df4ba0",
        "colab": {
          "base_uri": "https://localhost:8080/",
          "height": 208
        }
      },
      "source": [
        "for step in range(3001):\n",
        "  for feature, label in iter(dataset):\n",
        "    grads = grad(feature, label)\n",
        "    optimizer.apply_gradients(grads_and_vars=zip(grads, [W, b]))\n",
        "    cost = cost_fn(feature, label)\n",
        "\n",
        "    if step%300 == 0:\n",
        "      print('step: {} cost:{:.5f}'.format(step, cost.numpy()))"
      ],
      "execution_count": 86,
      "outputs": [
        {
          "output_type": "stream",
          "text": [
            "step: 0 cost:6.08215\n",
            "step: 300 cost:0.83358\n",
            "step: 600 cost:0.69458\n",
            "step: 900 cost:0.62367\n",
            "step: 1200 cost:0.57804\n",
            "step: 1500 cost:0.54474\n",
            "step: 1800 cost:0.51857\n",
            "step: 2100 cost:0.49701\n",
            "step: 2400 cost:0.47864\n",
            "step: 2700 cost:0.46257\n",
            "step: 3000 cost:0.44822\n"
          ],
          "name": "stdout"
        }
      ]
    },
    {
      "cell_type": "code",
      "metadata": {
        "id": "GG5lUOktt5in",
        "outputId": "d836e709-9f22-48dc-9deb-8937e5e6f95a",
        "colab": {
          "base_uri": "https://localhost:8080/",
          "height": 35
        }
      },
      "source": [
        "# predict\n",
        "sample_data = [[2,1,3,2]]\n",
        "sample_data = np.array(sample_data, dtype=np.float32)\n",
        "\n",
        "y_estimate = softmax(sample_data)\n",
        "print(tf.argmax(y_estimate, 1))"
      ],
      "execution_count": 88,
      "outputs": [
        {
          "output_type": "stream",
          "text": [
            "tf.Tensor([2], shape=(1,), dtype=int64)\n"
          ],
          "name": "stdout"
        }
      ]
    },
    {
      "cell_type": "code",
      "metadata": {
        "id": "UDmohbqzwIwq"
      },
      "source": [
        ""
      ],
      "execution_count": 87,
      "outputs": []
    }
  ]
}