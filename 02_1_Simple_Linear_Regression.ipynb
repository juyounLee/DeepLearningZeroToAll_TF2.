{
  "nbformat": 4,
  "nbformat_minor": 0,
  "metadata": {
    "colab": {
      "name": "02-1-Simple-Linear-Regression.ipynb",
      "provenance": [],
      "authorship_tag": "ABX9TyNIqJtngKgGlIrPa8L8oWTH",
      "include_colab_link": true
    },
    "kernelspec": {
      "name": "python3",
      "display_name": "Python 3"
    }
  },
  "cells": [
    {
      "cell_type": "markdown",
      "metadata": {
        "id": "view-in-github",
        "colab_type": "text"
      },
      "source": [
        "<a href=\"https://colab.research.google.com/github/juyounLee/DeepLearningZeroToAll_TF2./blob/main/02_1_Simple_Linear_Regression.ipynb\" target=\"_parent\"><img src=\"https://colab.research.google.com/assets/colab-badge.svg\" alt=\"Open In Colab\"/></a>"
      ]
    },
    {
      "cell_type": "code",
      "metadata": {
        "id": "JXYASLdIUZI2"
      },
      "source": [
        "import tensorflow as tf\n",
        "import matplotlib.pyplot as plt"
      ],
      "execution_count": 1,
      "outputs": []
    },
    {
      "cell_type": "code",
      "metadata": {
        "id": "Gj2oFfBuUpem"
      },
      "source": [
        "# x and y data\n",
        "x = [1, 2, 3, 4, 5]\n",
        "y = [1, 2, 3, 4, 5]"
      ],
      "execution_count": 2,
      "outputs": []
    },
    {
      "cell_type": "code",
      "metadata": {
        "id": "iHNj9Q65Ux8v",
        "outputId": "ce0b9a08-dfb6-4a59-d742-38ab26f862c8",
        "colab": {
          "base_uri": "https://localhost:8080/",
          "height": 286
        }
      },
      "source": [
        "# draw the graph\n",
        "plt.plot(x, y, 'o')\n",
        "plt.ylim(0, 8)"
      ],
      "execution_count": 4,
      "outputs": [
        {
          "output_type": "execute_result",
          "data": {
            "text/plain": [
              "(0.0, 8.0)"
            ]
          },
          "metadata": {
            "tags": []
          },
          "execution_count": 4
        },
        {
          "output_type": "display_data",
          "data": {
            "image/png": "[encoded data removed]",
            "text/plain": [
              "<Figure size 432x288 with 1 Axes>"
            ]
          },
          "metadata": {
            "tags": [],
            "needs_background": "light"
          }
        }
      ]
    },
    {
      "cell_type": "code",
      "metadata": {
        "id": "DqOgdnb7U5Pc",
        "outputId": "c400b22c-b892-4126-b6fd-85d9abe5a2e6",
        "colab": {
          "base_uri": "https://localhost:8080/",
          "height": 34
        }
      },
      "source": [
        "# Predict\n",
        "W = tf.Variable(3.0)\n",
        "b = tf.Variable(0.3)\n",
        "\n",
        "y_pred = W*x + b\n",
        "print(W.numpy(), b.numpy())"
      ],
      "execution_count": 8,
      "outputs": [
        {
          "output_type": "stream",
          "text": [
            "3.0 0.3\n"
          ],
          "name": "stdout"
        }
      ]
    },
    {
      "cell_type": "code",
      "metadata": {
        "id": "RDcJOcGlVmpj",
        "outputId": "6928c896-c752-44e7-f098-5cce2e654146",
        "colab": {
          "base_uri": "https://localhost:8080/",
          "height": 34
        }
      },
      "source": [
        "print(y_pred.numpy())"
      ],
      "execution_count": 9,
      "outputs": [
        {
          "output_type": "stream",
          "text": [
            "[ 3.3  6.3  9.3 12.3 15.3]\n"
          ],
          "name": "stdout"
        }
      ]
    },
    {
      "cell_type": "code",
      "metadata": {
        "id": "ZRXAy1xKV4Qt",
        "outputId": "83592153-22f7-496f-b65d-3af1b4a68502",
        "colab": {
          "base_uri": "https://localhost:8080/",
          "height": 34
        }
      },
      "source": [
        "# calculate the cost\n",
        "cost = tf.reduce_mean(tf.square(y_pred - y))\n",
        "print(cost.numpy())"
      ],
      "execution_count": 11,
      "outputs": [
        {
          "output_type": "stream",
          "text": [
            "47.690002\n"
          ],
          "name": "stdout"
        }
      ]
    },
    {
      "cell_type": "code",
      "metadata": {
        "id": "fu8jHpNHWHW2",
        "outputId": "fe192563-03fb-4d0b-a17c-7211b5cded86",
        "colab": {
          "base_uri": "https://localhost:8080/",
          "height": 286
        }
      },
      "source": [
        "# draw the y_pred graph\n",
        "plt.plot(x, y, 'o')\n",
        "plt.plot(x, y_pred, 'r-')\n",
        "plt.ylim(0, 16)"
      ],
      "execution_count": 12,
      "outputs": [
        {
          "output_type": "execute_result",
          "data": {
            "text/plain": [
              "(0.0, 16.0)"
            ]
          },
          "metadata": {
            "tags": []
          },
          "execution_count": 12
        },
        {
          "output_type": "display_data",
          "data": {
            "image/png": "[encoded data removed]",
            "text/plain": [
              "<Figure size 432x288 with 1 Axes>"
            ]
          },
          "metadata": {
            "tags": [],
            "needs_background": "light"
          }
        }
      ]
    },
    {
      "cell_type": "code",
      "metadata": {
        "id": "IUoptS4te26a",
        "outputId": "6969fc76-aa88-4fa6-a9e4-ae06787bc7fa",
        "colab": {
          "base_uri": "https://localhost:8080/",
          "height": 34
        }
      },
      "source": [
        "# assign_sub\n",
        "w = tf.Variable(1)\n",
        "w = w-1\n",
        "print(w.numpy())"
      ],
      "execution_count": 13,
      "outputs": [
        {
          "output_type": "stream",
          "text": [
            "0\n"
          ],
          "name": "stdout"
        }
      ]
    },
    {
      "cell_type": "code",
      "metadata": {
        "id": "XYxcq4rmXObv",
        "outputId": "eb71ecfe-1478-4233-cf01-e3097256f3ab",
        "colab": {
          "base_uri": "https://localhost:8080/",
          "height": 193
        }
      },
      "source": [
        "# update W and b\n",
        "learning_rate = 0.01\n",
        "for i in range(100):\n",
        "  with tf.GradientTape() as tape:\n",
        "    y_pred = W*x + b\n",
        "    cost = tf.reduce_mean(tf.square(y_pred-y))\n",
        "\n",
        "  dc_dW, dc_db = tape.gradient(cost, [W, b])\n",
        "  W.assign_sub(learning_rate*dc_dW)\n",
        "  b.assign_sub(learning_rate*dc_db)\n",
        "\n",
        "  if i % 10 == 0:\n",
        "    print('W: {:.5f} b: {:.5f} cost: {:.5f}'.format(W.numpy(), b.numpy(), cost.numpy()))"
      ],
      "execution_count": 16,
      "outputs": [
        {
          "output_type": "stream",
          "text": [
            "W: 1.04641 b: -0.16754 cost: 0.00514\n",
            "W: 1.04486 b: -0.16196 cost: 0.00481\n",
            "W: 1.04337 b: -0.15657 cost: 0.00449\n",
            "W: 1.04192 b: -0.15136 cost: 0.00420\n",
            "W: 1.04053 b: -0.14632 cost: 0.00392\n",
            "W: 1.03918 b: -0.14144 cost: 0.00367\n",
            "W: 1.03787 b: -0.13673 cost: 0.00343\n",
            "W: 1.03661 b: -0.13218 cost: 0.00320\n",
            "W: 1.03539 b: -0.12778 cost: 0.00299\n",
            "W: 1.03421 b: -0.12352 cost: 0.00280\n"
          ],
          "name": "stdout"
        }
      ]
    },
    {
      "cell_type": "code",
      "metadata": {
        "id": "lbIvxVhvf7aY",
        "outputId": "ed02c180-a2e5-4984-db8f-fa43a8fb3d0a",
        "colab": {
          "base_uri": "https://localhost:8080/",
          "height": 286
        }
      },
      "source": [
        "# draw the graph\n",
        "plt.plot(x, y_pred, 'r-')\n",
        "plt.plot(x, y, 'o')\n",
        "plt.ylim(0, 8)"
      ],
      "execution_count": 17,
      "outputs": [
        {
          "output_type": "execute_result",
          "data": {
            "text/plain": [
              "(0.0, 8.0)"
            ]
          },
          "metadata": {
            "tags": []
          },
          "execution_count": 17
        },
        {
          "output_type": "display_data",
          "data": {
            "image/png": "[encoded data removed]",
            "text/plain": [
              "<Figure size 432x288 with 1 Axes>"
            ]
          },
          "metadata": {
            "tags": [],
            "needs_background": "light"
          }
        }
      ]
    },
    {
      "cell_type": "code",
      "metadata": {
        "id": "Bc_T8Id6hd5-",
        "outputId": "414c547c-472c-4c9e-c5a8-7d91798377e7",
        "colab": {
          "base_uri": "https://localhost:8080/",
          "height": 52
        }
      },
      "source": [
        "# predict y value\n",
        "print(W*3 + b)\n",
        "print(W*4.3 + b)"
      ],
      "execution_count": 19,
      "outputs": [
        {
          "output_type": "stream",
          "text": [
            "tf.Tensor(2.9797451, shape=(), dtype=float32)\n",
            "tf.Tensor(4.3228884, shape=(), dtype=float32)\n"
          ],
          "name": "stdout"
        }
      ]
    },
    {
      "cell_type": "code",
      "metadata": {
        "id": "57WadKlbhoEL"
      },
      "source": [
        ""
      ],
      "execution_count": null,
      "outputs": []
    }
  ]
}